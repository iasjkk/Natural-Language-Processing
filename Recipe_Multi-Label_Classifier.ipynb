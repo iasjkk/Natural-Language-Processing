{
 "cells": [
  {
   "cell_type": "markdown",
   "metadata": {
    "_uuid": "abe58b6f63ad6fc975f6b62c1a47d3af54a943e5"
   },
   "source": [
    "# This is the Multi-Label classification problem"
   ]
  },
  {
   "cell_type": "markdown",
   "metadata": {
    "_uuid": "6ddb1e9c1032972f4c87204650195ee00fb3bb29"
   },
   "source": [
    "**Importing python libraries**"
   ]
  },
  {
   "cell_type": "code",
   "execution_count": 1,
   "metadata": {
    "_cell_guid": "b1076dfc-b9ad-4769-8c92-a6c4dae69d19",
    "_kg_hide-input": true,
    "_uuid": "8f2839f25d086af736a60e9eeb907d3b93b6e0e5"
   },
   "outputs": [],
   "source": [
    "import pandas as pd\n",
    "import numpy as np\n",
    "import nltk\n",
    "from nltk.tokenize import ToktokTokenizer\n",
    "from nltk.stem.wordnet import WordNetLemmatizer\n",
    "from nltk.corpus import stopwords\n",
    "from string import punctuation\n",
    "from sklearn.feature_extraction.text import TfidfVectorizer\n",
    "from sklearn.decomposition import LatentDirichletAllocation\n",
    "from sklearn.preprocessing import MultiLabelBinarizer\n",
    "from sklearn.model_selection import train_test_split\n",
    "from sklearn.model_selection import learning_curve\n",
    "from sklearn.model_selection import ShuffleSplit\n",
    "from sklearn.dummy import DummyClassifier\n",
    "from sklearn.naive_bayes import MultinomialNB\n",
    "from sklearn.linear_model import SGDClassifier\n",
    "from sklearn.linear_model import LogisticRegression\n",
    "from sklearn.multiclass import OneVsRestClassifier\n",
    "from sklearn.svm import LinearSVC\n",
    "from sklearn.linear_model import Perceptron\n",
    "from sklearn.linear_model import PassiveAggressiveClassifier\n",
    "from sklearn.neural_network import MLPClassifier\n",
    "from sklearn.ensemble import RandomForestClassifier\n",
    "from sklearn import model_selection\n",
    "from sklearn.metrics import make_scorer\n",
    "from sklearn.metrics import confusion_matrix\n",
    "from sklearn.metrics import hamming_loss\n",
    "from sklearn.cluster import KMeans\n",
    "from scipy.sparse import hstack\n",
    "import matplotlib.pyplot as plt\n",
    "import matplotlib.lines as mlines\n",
    "import seaborn as sns\n",
    "import warnings\n",
    "import pickle\n",
    "import time\n",
    "import re\n",
    "warnings.filterwarnings(\"ignore\")\n",
    "plt.style.use('bmh')\n",
    "%matplotlib inline"
   ]
  },
  {
   "cell_type": "code",
   "execution_count": 2,
   "metadata": {
    "_uuid": "120edf8b2306a6391ad992cf3f48598739ec1940"
   },
   "outputs": [
    {
     "name": "stdout",
     "output_type": "stream",
     "text": [
      "(82245, 9)\n"
     ]
    },
    {
     "data": {
      "text/plain": [
       "(82011, 9)"
      ]
     },
     "execution_count": 2,
     "metadata": {},
     "output_type": "execute_result"
    }
   ],
   "source": [
    "# Reading Dataset from CSV\n",
    "df = pd.read_csv(\"recipes_82k.csv\")\n",
    "print(df.shape)\n",
    "# Selection of rows for non-NAN tags\n",
    "df = df[df.tags.notna()]\n",
    "df.shape"
   ]
  },
  {
   "cell_type": "code",
   "execution_count": 3,
   "metadata": {
    "_uuid": "40c3e09d38aecf03ce13fd0d88809e80a67d3d1a",
    "scrolled": true
   },
   "outputs": [
    {
     "data": {
      "text/html": [
       "<div>\n",
       "<style scoped>\n",
       "    .dataframe tbody tr th:only-of-type {\n",
       "        vertical-align: middle;\n",
       "    }\n",
       "\n",
       "    .dataframe tbody tr th {\n",
       "        vertical-align: top;\n",
       "    }\n",
       "\n",
       "    .dataframe thead th {\n",
       "        text-align: right;\n",
       "    }\n",
       "</style>\n",
       "<table border=\"1\" class=\"dataframe\">\n",
       "  <thead>\n",
       "    <tr style=\"text-align: right;\">\n",
       "      <th></th>\n",
       "      <th>category</th>\n",
       "      <th>cooking_method</th>\n",
       "      <th>cuisine</th>\n",
       "      <th>image</th>\n",
       "      <th>ingredients</th>\n",
       "      <th>prep_time</th>\n",
       "      <th>recipe_name</th>\n",
       "      <th>serves</th>\n",
       "      <th>tags</th>\n",
       "    </tr>\n",
       "  </thead>\n",
       "  <tbody>\n",
       "    <tr>\n",
       "      <th>0</th>\n",
       "      <td>NaN</td>\n",
       "      <td>['Set the racks in the middle and upper thirds...</td>\n",
       "      <td>['American']</td>\n",
       "      <td>https://www.skinnytaste.com/wp-content/uploads...</td>\n",
       "      <td>['1 tablespoons extra virgin olive oil', '1 cu...</td>\n",
       "      <td>20 minutes</td>\n",
       "      <td>Mediterranean Sea Bass</td>\n",
       "      <td>4 servings</td>\n",
       "      <td>Dairy Free, Gluten Free, Keto Recipes, Kid Fri...</td>\n",
       "    </tr>\n",
       "    <tr>\n",
       "      <th>1</th>\n",
       "      <td>NaN</td>\n",
       "      <td>['Place the eggs in the air fryer basket and c...</td>\n",
       "      <td>['American']</td>\n",
       "      <td>https://www.skinnytaste.com/wp-content/uploads...</td>\n",
       "      <td>['4 large eggs', 'Salt (black pepper, everythi...</td>\n",
       "      <td>15 minutes</td>\n",
       "      <td>Air Fryer Hard Boiled Eggs</td>\n",
       "      <td>4 eggs</td>\n",
       "      <td>Air Fryer Recipes, Dairy Free, Gluten Free, Ke...</td>\n",
       "    </tr>\n",
       "    <tr>\n",
       "      <th>2</th>\n",
       "      <td>NaN</td>\n",
       "      <td>['Air Fryer directions:', 'Preheat air fryer t...</td>\n",
       "      <td>['American']</td>\n",
       "      <td>https://www.skinnytaste.com/wp-content/uploads...</td>\n",
       "      <td>['olive oil spray', '4 about 5 ounce each salm...</td>\n",
       "      <td>5 minutes</td>\n",
       "      <td>Air Fryer Basil-Parmesan Salmon</td>\n",
       "      <td>4 servings</td>\n",
       "      <td>Air Fryer Recipes, Gluten Free, Keto Recipes, ...</td>\n",
       "    </tr>\n",
       "    <tr>\n",
       "      <th>3</th>\n",
       "      <td>NaN</td>\n",
       "      <td>['Preheat the oven to 400F.', 'Pour 2 tablespo...</td>\n",
       "      <td>['American']</td>\n",
       "      <td>https://www.skinnytaste.com/wp-content/uploads...</td>\n",
       "      <td>['1/2 cup freshly grated Parmesan (not pre-gra...</td>\n",
       "      <td>15 minutes</td>\n",
       "      <td>Everything Parmesan Crisps</td>\n",
       "      <td>4 servings</td>\n",
       "      <td>Gluten Free, Keto Recipes, Kid Friendly, Low C...</td>\n",
       "    </tr>\n",
       "    <tr>\n",
       "      <th>4</th>\n",
       "      <td>NaN</td>\n",
       "      <td>['Cook potatoes in a large pot of salted water...</td>\n",
       "      <td>['American']</td>\n",
       "      <td>https://www.skinnytaste.com/wp-content/uploads...</td>\n",
       "      <td>['3 1/2 pounds new potatoes (about 10 peeled a...</td>\n",
       "      <td>10 minutes</td>\n",
       "      <td>Potato and Green Bean Salad</td>\n",
       "      <td>12 servings</td>\n",
       "      <td>Dairy Free, Gluten Free, Kid Friendly, Vegetar...</td>\n",
       "    </tr>\n",
       "  </tbody>\n",
       "</table>\n",
       "</div>"
      ],
      "text/plain": [
       "  category                                     cooking_method       cuisine  \\\n",
       "0      NaN  ['Set the racks in the middle and upper thirds...  ['American']   \n",
       "1      NaN  ['Place the eggs in the air fryer basket and c...  ['American']   \n",
       "2      NaN  ['Air Fryer directions:', 'Preheat air fryer t...  ['American']   \n",
       "3      NaN  ['Preheat the oven to 400F.', 'Pour 2 tablespo...  ['American']   \n",
       "4      NaN  ['Cook potatoes in a large pot of salted water...  ['American']   \n",
       "\n",
       "                                               image  \\\n",
       "0  https://www.skinnytaste.com/wp-content/uploads...   \n",
       "1  https://www.skinnytaste.com/wp-content/uploads...   \n",
       "2  https://www.skinnytaste.com/wp-content/uploads...   \n",
       "3  https://www.skinnytaste.com/wp-content/uploads...   \n",
       "4  https://www.skinnytaste.com/wp-content/uploads...   \n",
       "\n",
       "                                         ingredients   prep_time  \\\n",
       "0  ['1 tablespoons extra virgin olive oil', '1 cu...  20 minutes   \n",
       "1  ['4 large eggs', 'Salt (black pepper, everythi...  15 minutes   \n",
       "2  ['olive oil spray', '4 about 5 ounce each salm...   5 minutes   \n",
       "3  ['1/2 cup freshly grated Parmesan (not pre-gra...  15 minutes   \n",
       "4  ['3 1/2 pounds new potatoes (about 10 peeled a...  10 minutes   \n",
       "\n",
       "                       recipe_name       serves  \\\n",
       "0           Mediterranean Sea Bass   4 servings   \n",
       "1       Air Fryer Hard Boiled Eggs       4 eggs   \n",
       "2  Air Fryer Basil-Parmesan Salmon   4 servings   \n",
       "3       Everything Parmesan Crisps   4 servings   \n",
       "4      Potato and Green Bean Salad  12 servings   \n",
       "\n",
       "                                                tags  \n",
       "0  Dairy Free, Gluten Free, Keto Recipes, Kid Fri...  \n",
       "1  Air Fryer Recipes, Dairy Free, Gluten Free, Ke...  \n",
       "2  Air Fryer Recipes, Gluten Free, Keto Recipes, ...  \n",
       "3  Gluten Free, Keto Recipes, Kid Friendly, Low C...  \n",
       "4  Dairy Free, Gluten Free, Kid Friendly, Vegetar...  "
      ]
     },
     "execution_count": 3,
     "metadata": {},
     "output_type": "execute_result"
    }
   ],
   "source": [
    "df.head(5)"
   ]
  },
  {
   "cell_type": "code",
   "execution_count": 4,
   "metadata": {
    "_uuid": "ecebe90606c70e84e4e87e1661e49a11c37e529f"
   },
   "outputs": [
    {
     "name": "stdout",
     "output_type": "stream",
     "text": [
      "['Dairy Free, Gluten Free, Keto Recipes, Kid Friendly, Low Carb, Under 30 Minutes']\n"
     ]
    }
   ],
   "source": [
    "tag_list = df.tags.dropna().tolist()\n",
    "len(tag_list)\n",
    "print(tag_list[:1][:2])"
   ]
  },
  {
   "cell_type": "markdown",
   "metadata": {
    "_uuid": "e462e56ec2d84a0f3810d53bee3715cb570907f1"
   },
   "source": [
    "# Data Cleaning"
   ]
  },
  {
   "cell_type": "code",
   "execution_count": 5,
   "metadata": {},
   "outputs": [],
   "source": [
    "new_df = df.copy()\n",
    "new_df['tags'] = new_df['tags'].apply(lambda x: x.split(','))"
   ]
  },
  {
   "cell_type": "code",
   "execution_count": 6,
   "metadata": {},
   "outputs": [],
   "source": [
    "all_tags = [item for sublist in new_df['tags'].values for item in sublist]\n",
    "all_tags = [i.strip() for i in all_tags]"
   ]
  },
  {
   "cell_type": "code",
   "execution_count": 7,
   "metadata": {},
   "outputs": [
    {
     "data": {
      "text/plain": [
       "765"
      ]
     },
     "execution_count": 7,
     "metadata": {},
     "output_type": "execute_result"
    }
   ],
   "source": [
    "unique_tags = list(set(all_tags))\n",
    "len(unique_tags)"
   ]
  },
  {
   "cell_type": "code",
   "execution_count": 8,
   "metadata": {},
   "outputs": [],
   "source": [
    "flat_list = [item for sublist in new_df['tags'].values for item in sublist]\n",
    "\n",
    "keywords = nltk.FreqDist(flat_list)\n",
    "\n",
    "keywords = nltk.FreqDist(keywords)\n",
    "\n",
    "frequencies_words = keywords.most_common(100)\n",
    "tags_features = [word[0] for word in frequencies_words]"
   ]
  },
  {
   "cell_type": "markdown",
   "metadata": {
    "_uuid": "d3a6dc67414c2faf61fc32adf821d5d6c5a00e4e"
   },
   "source": [
    "**Tags**"
   ]
  },
  {
   "cell_type": "code",
   "execution_count": 9,
   "metadata": {
    "_uuid": "a97a5e5d2e1031394382558d4dc3b54530400005"
   },
   "outputs": [
    {
     "data": {
      "text/plain": [
       "['Vegetable',\n",
       " 'Gluten Free',\n",
       " 'Main Dish',\n",
       " 'Fruit',\n",
       " 'Meat',\n",
       " 'Easy',\n",
       " 'Low Sodium',\n",
       " 'Dessert',\n",
       " 'American',\n",
       " 'Cheese',\n",
       " 'Side Dish',\n",
       " 'Dairy Recipes',\n",
       " 'Appetizer',\n",
       " 'Low-Fat',\n",
       " 'Holiday',\n",
       " 'Lunch',\n",
       " 'Poultry',\n",
       " 'Vegan',\n",
       " 'Tomato',\n",
       " 'High Fiber',\n",
       " 'Recipes for a Crowd',\n",
       " 'Nut Recipes',\n",
       " 'Easy Main Dish',\n",
       " 'Chicken',\n",
       " 'Shellfish Recipes',\n",
       " 'Vegetarian',\n",
       " 'Baking',\n",
       " 'Grilling',\n",
       " 'Chocolate',\n",
       " 'Beef',\n",
       " 'Salad Recipes',\n",
       " 'Fish',\n",
       " 'Sauteing Recipes',\n",
       " 'Beans and Legumes',\n",
       " 'European Recipes',\n",
       " 'Recipes for Parties',\n",
       " 'Healthy',\n",
       " 'Easy Side Dish Recipes',\n",
       " 'Italian',\n",
       " 'Egg Recipes',\n",
       " 'Grain Recipes',\n",
       " 'Potato',\n",
       " 'Pureeing Recipes',\n",
       " 'Sugar',\n",
       " 'Pork',\n",
       " 'Easy Dessert Recipes',\n",
       " 'Roasting',\n",
       " 'Low Calorie',\n",
       " 'Easy Lunch Recipes',\n",
       " 'Low-Carb',\n",
       " 'Lemon',\n",
       " 'Easy Baking',\n",
       " 'Breakfast',\n",
       " 'Rice Recipes',\n",
       " 'Pasta Recipes',\n",
       " 'Shrimp',\n",
       " 'Sauce Recipes',\n",
       " 'Brunch',\n",
       " 'Easy Appetizer',\n",
       " 'Fruit Dessert Recipes',\n",
       " 'Bacon Recipes',\n",
       " 'Mushroom',\n",
       " 'Apple',\n",
       " 'Asian',\n",
       " 'Carrot Recipes',\n",
       " 'Onion Recipes',\n",
       " 'Summer',\n",
       " 'Sausage Recipes',\n",
       " 'Snack',\n",
       " 'Skillet Recipes',\n",
       " 'Soup',\n",
       " 'Fall',\n",
       " 'Mixed Drink Recipes',\n",
       " 'Sandwich',\n",
       " 'Celery',\n",
       " 'Corn Recipes',\n",
       " 'Cookie',\n",
       " 'Cake',\n",
       " 'Orange Recipes',\n",
       " 'Southern Recipes',\n",
       " 'Shallot Recipes',\n",
       " 'Spinach',\n",
       " 'Thanksgiving',\n",
       " 'Easy Grilling Recipes',\n",
       " 'Lime Recipes',\n",
       " 'Lettuce Recipes',\n",
       " 'Diabetes-Friendly',\n",
       " 'Jalapeno Recipes',\n",
       " 'Low-Cholesterol',\n",
       " 'Strawberry',\n",
       " 'Easy Chicken',\n",
       " 'Marinating Recipes',\n",
       " 'Cinco de Mayo',\n",
       " 'Heart-Healthy',\n",
       " 'Deep-Frying',\n",
       " 'French Recipes',\n",
       " 'Salmon',\n",
       " 'Banana',\n",
       " 'Cheddar',\n",
       " 'Pie Recipes']"
      ]
     },
     "execution_count": 9,
     "metadata": {},
     "output_type": "execute_result"
    }
   ],
   "source": [
    "tags_features"
   ]
  },
  {
   "cell_type": "code",
   "execution_count": 10,
   "metadata": {
    "_uuid": "e4a1cb0882531f0de6aef354e468cd0711bbb432"
   },
   "outputs": [
    {
     "data": {
      "image/png": "[encoded data removed]",
      "text/plain": [
       "<Figure size 1080x720 with 1 Axes>"
      ]
     },
     "metadata": {
      "needs_background": "light"
     },
     "output_type": "display_data"
    },
    {
     "data": {
      "text/plain": [
       "<matplotlib.axes._subplots.AxesSubplot at 0x7f0b34c16710>"
      ]
     },
     "execution_count": 10,
     "metadata": {},
     "output_type": "execute_result"
    }
   ],
   "source": [
    "fig, ax = plt.subplots(figsize=(15, 10))\n",
    "keywords.plot(85, cumulative=False)"
   ]
  },
  {
   "cell_type": "code",
   "execution_count": 11,
   "metadata": {
    "_uuid": "3dabce5e92dc9314e7042384add46fc2c31f3112"
   },
   "outputs": [],
   "source": [
    "def most_common(tags):\n",
    "    tags_filtered = []\n",
    "    for i in range(0, len(tags)):\n",
    "        if tags[i] in tags_features:\n",
    "            tags_filtered.append(tags[i])\n",
    "    return tags_filtered"
   ]
  },
  {
   "cell_type": "code",
   "execution_count": 12,
   "metadata": {
    "_uuid": "e1b1f8eefaf9b94b5bffdbd295b5770fae7b2984"
   },
   "outputs": [],
   "source": [
    "# new_df['Tags'] = new_df['Tags'].apply(lambda x: most_common(x))\n",
    "new_df['tags'] = new_df['tags'].apply(lambda x: x if len(x)>0 else None)"
   ]
  },
  {
   "cell_type": "code",
   "execution_count": 13,
   "metadata": {
    "_uuid": "be6aae9b05c9d212cb26adb487df1476e6040c48"
   },
   "outputs": [
    {
     "data": {
      "text/plain": [
       "Index(['category', 'cooking_method', 'cuisine', 'image', 'ingredients',\n",
       "       'prep_time', 'recipe_name', 'serves', 'tags'],\n",
       "      dtype='object')"
      ]
     },
     "execution_count": 13,
     "metadata": {},
     "output_type": "execute_result"
    }
   ],
   "source": [
    "new_df.columns"
   ]
  },
  {
   "cell_type": "code",
   "execution_count": 14,
   "metadata": {
    "_uuid": "1f9ffd9e9e0dfe7c2e4c595e31559e2f5ec513f4"
   },
   "outputs": [],
   "source": [
    "new_df.dropna(subset=['tags', 'cooking_method', 'cuisine', 'ingredients', 'serves', 'prep_time', 'recipe_name'], inplace=True)"
   ]
  },
  {
   "cell_type": "code",
   "execution_count": 15,
   "metadata": {
    "_uuid": "608e36814e0b2befb41bb9dc6eca073edf48fbe4"
   },
   "outputs": [
    {
     "data": {
      "text/plain": [
       "(58449, 9)"
      ]
     },
     "execution_count": 15,
     "metadata": {},
     "output_type": "execute_result"
    }
   ],
   "source": [
    "new_df.shape"
   ]
  },
  {
   "cell_type": "markdown",
   "metadata": {
    "_uuid": "598869f86fd4f9a6fe1e41f9acce43d392cb50aa"
   },
   "source": [
    "In the next two columns: Body and Title, I'll use lots of text processing:\n",
    "* Lowering text\n",
    "* Removing punctuation (but keeping words like c# since it's the most popular tag)\n",
    "* Lemmatizing words\n",
    "* Removing stop words"
   ]
  },
  {
   "cell_type": "markdown",
   "metadata": {},
   "source": [
    "# Pre-Processing\n",
    "\n",
    "**Spliting the sentances of the 3 features into list of string**"
   ]
  },
  {
   "cell_type": "code",
   "execution_count": 16,
   "metadata": {
    "_uuid": "e1b8ccc185a38ec08ee74deecd749b187053e444"
   },
   "outputs": [
    {
     "data": {
      "text/html": [
       "<div>\n",
       "<style scoped>\n",
       "    .dataframe tbody tr th:only-of-type {\n",
       "        vertical-align: middle;\n",
       "    }\n",
       "\n",
       "    .dataframe tbody tr th {\n",
       "        vertical-align: top;\n",
       "    }\n",
       "\n",
       "    .dataframe thead th {\n",
       "        text-align: right;\n",
       "    }\n",
       "</style>\n",
       "<table border=\"1\" class=\"dataframe\">\n",
       "  <thead>\n",
       "    <tr style=\"text-align: right;\">\n",
       "      <th></th>\n",
       "      <th>cooking_method</th>\n",
       "      <th>cuisine</th>\n",
       "      <th>ingredients</th>\n",
       "      <th>prep_time</th>\n",
       "      <th>recipe_name</th>\n",
       "      <th>serves</th>\n",
       "      <th>tags</th>\n",
       "    </tr>\n",
       "  </thead>\n",
       "  <tbody>\n",
       "    <tr>\n",
       "      <th>0</th>\n",
       "      <td>[['Set, the, racks, in, the, middle, and, uppe...</td>\n",
       "      <td>['American']</td>\n",
       "      <td>[['1, tablespoons, extra, virgin, olive, oil',...</td>\n",
       "      <td>20 minutes</td>\n",
       "      <td>[Mediterranean, Sea, Bass]</td>\n",
       "      <td>4 servings</td>\n",
       "      <td>[Dairy Free,  Gluten Free,  Keto Recipes,  Kid...</td>\n",
       "    </tr>\n",
       "    <tr>\n",
       "      <th>1</th>\n",
       "      <td>[['Place, the, eggs, in, the, air, fryer, bask...</td>\n",
       "      <td>['American']</td>\n",
       "      <td>[['4, large, eggs',, 'Salt, (black, pepper,, e...</td>\n",
       "      <td>15 minutes</td>\n",
       "      <td>[Air, Fryer, Hard, Boiled, Eggs]</td>\n",
       "      <td>4 eggs</td>\n",
       "      <td>[Air Fryer Recipes,  Dairy Free,  Gluten Free,...</td>\n",
       "    </tr>\n",
       "    <tr>\n",
       "      <th>2</th>\n",
       "      <td>[['Air, Fryer, directions:',, 'Preheat, air, f...</td>\n",
       "      <td>['American']</td>\n",
       "      <td>[['olive, oil, spray',, '4, about, 5, ounce, e...</td>\n",
       "      <td>5 minutes</td>\n",
       "      <td>[Air, Fryer, Basil-Parmesan, Salmon]</td>\n",
       "      <td>4 servings</td>\n",
       "      <td>[Air Fryer Recipes,  Gluten Free,  Keto Recipe...</td>\n",
       "    </tr>\n",
       "    <tr>\n",
       "      <th>3</th>\n",
       "      <td>[['Preheat, the, oven, to, 400F.',, 'Pour, 2, ...</td>\n",
       "      <td>['American']</td>\n",
       "      <td>[['1/2, cup, freshly, grated, Parmesan, (not, ...</td>\n",
       "      <td>15 minutes</td>\n",
       "      <td>[Everything, Parmesan, Crisps]</td>\n",
       "      <td>4 servings</td>\n",
       "      <td>[Gluten Free,  Keto Recipes,  Kid Friendly,  L...</td>\n",
       "    </tr>\n",
       "    <tr>\n",
       "      <th>4</th>\n",
       "      <td>[['Cook, potatoes, in, a, large, pot, of, salt...</td>\n",
       "      <td>['American']</td>\n",
       "      <td>[['3, 1/2, pounds, new, potatoes, (about, 10, ...</td>\n",
       "      <td>10 minutes</td>\n",
       "      <td>[Potato, and, Green, Bean, Salad]</td>\n",
       "      <td>12 servings</td>\n",
       "      <td>[Dairy Free,  Gluten Free,  Kid Friendly,  Veg...</td>\n",
       "    </tr>\n",
       "  </tbody>\n",
       "</table>\n",
       "</div>"
      ],
      "text/plain": [
       "                                      cooking_method       cuisine  \\\n",
       "0  [['Set, the, racks, in, the, middle, and, uppe...  ['American']   \n",
       "1  [['Place, the, eggs, in, the, air, fryer, bask...  ['American']   \n",
       "2  [['Air, Fryer, directions:',, 'Preheat, air, f...  ['American']   \n",
       "3  [['Preheat, the, oven, to, 400F.',, 'Pour, 2, ...  ['American']   \n",
       "4  [['Cook, potatoes, in, a, large, pot, of, salt...  ['American']   \n",
       "\n",
       "                                         ingredients   prep_time  \\\n",
       "0  [['1, tablespoons, extra, virgin, olive, oil',...  20 minutes   \n",
       "1  [['4, large, eggs',, 'Salt, (black, pepper,, e...  15 minutes   \n",
       "2  [['olive, oil, spray',, '4, about, 5, ounce, e...   5 minutes   \n",
       "3  [['1/2, cup, freshly, grated, Parmesan, (not, ...  15 minutes   \n",
       "4  [['3, 1/2, pounds, new, potatoes, (about, 10, ...  10 minutes   \n",
       "\n",
       "                            recipe_name       serves  \\\n",
       "0            [Mediterranean, Sea, Bass]   4 servings   \n",
       "1      [Air, Fryer, Hard, Boiled, Eggs]       4 eggs   \n",
       "2  [Air, Fryer, Basil-Parmesan, Salmon]   4 servings   \n",
       "3        [Everything, Parmesan, Crisps]   4 servings   \n",
       "4     [Potato, and, Green, Bean, Salad]  12 servings   \n",
       "\n",
       "                                                tags  \n",
       "0  [Dairy Free,  Gluten Free,  Keto Recipes,  Kid...  \n",
       "1  [Air Fryer Recipes,  Dairy Free,  Gluten Free,...  \n",
       "2  [Air Fryer Recipes,  Gluten Free,  Keto Recipe...  \n",
       "3  [Gluten Free,  Keto Recipes,  Kid Friendly,  L...  \n",
       "4  [Dairy Free,  Gluten Free,  Kid Friendly,  Veg...  "
      ]
     },
     "execution_count": 16,
     "metadata": {},
     "output_type": "execute_result"
    }
   ],
   "source": [
    "temp_df = new_df.drop(columns=['category', 'image']).copy()\n",
    "temp_df['ingredients'] = temp_df['ingredients'].apply(lambda x: x.split(' '))\n",
    "temp_df['cooking_method'] = temp_df['cooking_method'].apply(lambda x: x.split(' '))\n",
    "temp_df['recipe_name'] = temp_df['recipe_name'].apply(lambda x: x.split(' '))\n",
    "temp_df.head()"
   ]
  },
  {
   "cell_type": "markdown",
   "metadata": {},
   "source": [
    "**Tokenization, Lemmatization and Stop-Word Removal**"
   ]
  },
  {
   "cell_type": "code",
   "execution_count": 17,
   "metadata": {
    "_uuid": "e2b3cfc4fbb0482324dc1937d8411feb5334f7d2"
   },
   "outputs": [],
   "source": [
    "token=ToktokTokenizer()"
   ]
  },
  {
   "cell_type": "code",
   "execution_count": 18,
   "metadata": {
    "_uuid": "52c525eabf07b51a54af954f4adc7404febdf27e"
   },
   "outputs": [],
   "source": [
    "punct = '!\"#$%&\\'()*+,./:;<=>?@[\\\\]^_`{|}~'"
   ]
  },
  {
   "cell_type": "code",
   "execution_count": 19,
   "metadata": {
    "_uuid": "c32de0e6fb753123485706a2655a68260de9741a"
   },
   "outputs": [
    {
     "name": "stderr",
     "output_type": "stream",
     "text": [
      "[nltk_data] Downloading package stopwords to /home/gaurav/nltk_data...\n",
      "[nltk_data]   Package stopwords is already up-to-date!\n"
     ]
    },
    {
     "data": {
      "text/plain": [
       "True"
      ]
     },
     "execution_count": 19,
     "metadata": {},
     "output_type": "execute_result"
    }
   ],
   "source": [
    "nltk.download('stopwords')"
   ]
  },
  {
   "cell_type": "code",
   "execution_count": 20,
   "metadata": {
    "_uuid": "b18fd3ceb79801c3737758607e39ff6881dc1f0b"
   },
   "outputs": [],
   "source": [
    "lemma=WordNetLemmatizer()\n",
    "# stop_words = set(stopwords.words(\"english\"))"
   ]
  },
  {
   "cell_type": "code",
   "execution_count": 21,
   "metadata": {
    "_uuid": "7adfb53ebffef9af3068171d4f4e8e7b4b959527"
   },
   "outputs": [],
   "source": [
    "def lemitizeWords(text):\n",
    "    words=token.tokenize(text)\n",
    "    listLemma=[]\n",
    "    for w in words:\n",
    "        x=lemma.lemmatize(w, pos=\"v\")\n",
    "        listLemma.append(x)\n",
    "    return ' '.join(map(str, listLemma))\n",
    "\n",
    "def stopWordsRemove(text):\n",
    "    \n",
    "    stop_words = set(stopwords.words(\"english\"))\n",
    "    \n",
    "    words=token.tokenize(text)\n",
    "    \n",
    "    filtered = [w for w in words if not w in stop_words]\n",
    "    \n",
    "    return ' '.join(map(str, filtered))"
   ]
  },
  {
   "cell_type": "code",
   "execution_count": 22,
   "metadata": {},
   "outputs": [
    {
     "name": "stderr",
     "output_type": "stream",
     "text": [
      "[nltk_data] Downloading package wordnet to /home/gaurav/nltk_data...\n",
      "[nltk_data]   Package wordnet is already up-to-date!\n"
     ]
    },
    {
     "data": {
      "text/plain": [
       "True"
      ]
     },
     "execution_count": 22,
     "metadata": {},
     "output_type": "execute_result"
    }
   ],
   "source": [
    "nltk.download('wordnet')"
   ]
  },
  {
   "cell_type": "code",
   "execution_count": 23,
   "metadata": {
    "_uuid": "32e75ae4b01dcafb295fceb59a1f973b1d5d4b86"
   },
   "outputs": [
    {
     "data": {
      "text/html": [
       "<div>\n",
       "<style scoped>\n",
       "    .dataframe tbody tr th:only-of-type {\n",
       "        vertical-align: middle;\n",
       "    }\n",
       "\n",
       "    .dataframe tbody tr th {\n",
       "        vertical-align: top;\n",
       "    }\n",
       "\n",
       "    .dataframe thead th {\n",
       "        text-align: right;\n",
       "    }\n",
       "</style>\n",
       "<table border=\"1\" class=\"dataframe\">\n",
       "  <thead>\n",
       "    <tr style=\"text-align: right;\">\n",
       "      <th></th>\n",
       "      <th>cooking_method</th>\n",
       "      <th>cuisine</th>\n",
       "      <th>ingredients</th>\n",
       "      <th>prep_time</th>\n",
       "      <th>recipe_name</th>\n",
       "      <th>serves</th>\n",
       "      <th>tags</th>\n",
       "    </tr>\n",
       "  </thead>\n",
       "  <tbody>\n",
       "    <tr>\n",
       "      <th>0</th>\n",
       "      <td>[ \" [ ' Set \" , ' the ' , ' rack ' , ' in ' , ...</td>\n",
       "      <td>['American']</td>\n",
       "      <td>[ \" [ ' 1 \" , ' tablespoons ' , ' extra ' , ' ...</td>\n",
       "      <td>20 minutes</td>\n",
       "      <td>[ ' Mediterranean ' , ' Sea ' , ' Bass ' ]</td>\n",
       "      <td>4 servings</td>\n",
       "      <td>[Dairy Free,  Gluten Free,  Keto Recipes,  Kid...</td>\n",
       "    </tr>\n",
       "    <tr>\n",
       "      <th>1</th>\n",
       "      <td>[ \" [ ' Place \" , ' the ' , ' egg ' , ' in ' ,...</td>\n",
       "      <td>['American']</td>\n",
       "      <td>[ \" [ ' 4 \" , ' large ' , \" egg ' , \" , \" ' Sa...</td>\n",
       "      <td>15 minutes</td>\n",
       "      <td>[ ' Air ' , ' Fryer ' , ' Hard ' , ' Boiled ' ...</td>\n",
       "      <td>4 eggs</td>\n",
       "      <td>[Air Fryer Recipes,  Dairy Free,  Gluten Free,...</td>\n",
       "    </tr>\n",
       "    <tr>\n",
       "      <th>2</th>\n",
       "      <td>[ \" [ ' Air \" , ' Fryer ' , \" directions : ' ,...</td>\n",
       "      <td>['American']</td>\n",
       "      <td>[ \" [ ' olive \" , ' oil ' , \" spray ' , \" , \" ...</td>\n",
       "      <td>5 minutes</td>\n",
       "      <td>[ ' Air ' , ' Fryer ' , ' Basil-Parmesan ' , '...</td>\n",
       "      <td>4 servings</td>\n",
       "      <td>[Air Fryer Recipes,  Gluten Free,  Keto Recipe...</td>\n",
       "    </tr>\n",
       "    <tr>\n",
       "      <th>3</th>\n",
       "      <td>[ \" [ ' Preheat \" , ' the ' , ' oven ' , ' to ...</td>\n",
       "      <td>['American']</td>\n",
       "      <td>[ \" [ ' 1/2 \" , ' cup ' , ' freshly ' , ' grat...</td>\n",
       "      <td>15 minutes</td>\n",
       "      <td>[ ' Everything ' , ' Parmesan ' , ' Crisps ' ]</td>\n",
       "      <td>4 servings</td>\n",
       "      <td>[Gluten Free,  Keto Recipes,  Kid Friendly,  L...</td>\n",
       "    </tr>\n",
       "    <tr>\n",
       "      <th>4</th>\n",
       "      <td>[ \" [ ' Cook \" , ' potatoes ' , ' in ' , ' a '...</td>\n",
       "      <td>['American']</td>\n",
       "      <td>[ \" [ ' 3 \" , ' 1/2 ' , ' pound ' , ' new ' , ...</td>\n",
       "      <td>10 minutes</td>\n",
       "      <td>[ ' Potato ' , ' and ' , ' Green ' , ' Bean ' ...</td>\n",
       "      <td>12 servings</td>\n",
       "      <td>[Dairy Free,  Gluten Free,  Kid Friendly,  Veg...</td>\n",
       "    </tr>\n",
       "  </tbody>\n",
       "</table>\n",
       "</div>"
      ],
      "text/plain": [
       "                                      cooking_method       cuisine  \\\n",
       "0  [ \" [ ' Set \" , ' the ' , ' rack ' , ' in ' , ...  ['American']   \n",
       "1  [ \" [ ' Place \" , ' the ' , ' egg ' , ' in ' ,...  ['American']   \n",
       "2  [ \" [ ' Air \" , ' Fryer ' , \" directions : ' ,...  ['American']   \n",
       "3  [ \" [ ' Preheat \" , ' the ' , ' oven ' , ' to ...  ['American']   \n",
       "4  [ \" [ ' Cook \" , ' potatoes ' , ' in ' , ' a '...  ['American']   \n",
       "\n",
       "                                         ingredients   prep_time  \\\n",
       "0  [ \" [ ' 1 \" , ' tablespoons ' , ' extra ' , ' ...  20 minutes   \n",
       "1  [ \" [ ' 4 \" , ' large ' , \" egg ' , \" , \" ' Sa...  15 minutes   \n",
       "2  [ \" [ ' olive \" , ' oil ' , \" spray ' , \" , \" ...   5 minutes   \n",
       "3  [ \" [ ' 1/2 \" , ' cup ' , ' freshly ' , ' grat...  15 minutes   \n",
       "4  [ \" [ ' 3 \" , ' 1/2 ' , ' pound ' , ' new ' , ...  10 minutes   \n",
       "\n",
       "                                         recipe_name       serves  \\\n",
       "0         [ ' Mediterranean ' , ' Sea ' , ' Bass ' ]   4 servings   \n",
       "1  [ ' Air ' , ' Fryer ' , ' Hard ' , ' Boiled ' ...       4 eggs   \n",
       "2  [ ' Air ' , ' Fryer ' , ' Basil-Parmesan ' , '...   4 servings   \n",
       "3     [ ' Everything ' , ' Parmesan ' , ' Crisps ' ]   4 servings   \n",
       "4  [ ' Potato ' , ' and ' , ' Green ' , ' Bean ' ...  12 servings   \n",
       "\n",
       "                                                tags  \n",
       "0  [Dairy Free,  Gluten Free,  Keto Recipes,  Kid...  \n",
       "1  [Air Fryer Recipes,  Dairy Free,  Gluten Free,...  \n",
       "2  [Air Fryer Recipes,  Gluten Free,  Keto Recipe...  \n",
       "3  [Gluten Free,  Keto Recipes,  Kid Friendly,  L...  \n",
       "4  [Dairy Free,  Gluten Free,  Kid Friendly,  Veg...  "
      ]
     },
     "execution_count": 23,
     "metadata": {},
     "output_type": "execute_result"
    }
   ],
   "source": [
    "temp_df['recipe_name'] = temp_df['recipe_name'].apply(lambda x: lemitizeWords(x))\n",
    "temp_df['cooking_method'] = temp_df['cooking_method'].apply(lambda x: lemitizeWords(x))\n",
    "temp_df['ingredients'] = temp_df['ingredients'].apply(lambda x: lemitizeWords(x))\n",
    "temp_df.head()"
   ]
  },
  {
   "cell_type": "markdown",
   "metadata": {
    "_uuid": "119c8c35293cccd9627b58544acaaf06b4cb32d2"
   },
   "source": [
    "# Classifiers"
   ]
  },
  {
   "cell_type": "markdown",
   "metadata": {
    "_uuid": "ccbc4065cdf68e9ef58fcad2889fc7454372425a"
   },
   "source": [
    "Now our data is almost ready to be put into a classifier.\n",
    "The parameters in the TFIDF are very important for the performance of our tags."
   ]
  },
  {
   "cell_type": "code",
   "execution_count": 24,
   "metadata": {
    "_uuid": "8640de349b18ea297f15c3d3eed3836d3ed19e14"
   },
   "outputs": [],
   "source": [
    "X1 = temp_df['cooking_method']\n",
    "X2 = temp_df['recipe_name']\n",
    "X3 = temp_df['ingredients']\n",
    "X4 = temp_df['cuisine']\n",
    "X5 = temp_df['prep_time']\n",
    "X6 = temp_df['serves']\n",
    "y = temp_df['tags']"
   ]
  },
  {
   "cell_type": "code",
   "execution_count": 25,
   "metadata": {
    "_uuid": "a4669f647cb5a147710294f1116ac4e2f29f50d7"
   },
   "outputs": [],
   "source": [
    "multilabel_binarizer = MultiLabelBinarizer()\n",
    "y_bin = multilabel_binarizer.fit_transform(y)"
   ]
  },
  {
   "cell_type": "code",
   "execution_count": 26,
   "metadata": {
    "_uuid": "e8fd01469710da8a69fc45de00d37901d570814a"
   },
   "outputs": [],
   "source": [
    "vectorizer_X1 = TfidfVectorizer(analyzer = 'word',\n",
    "                                       min_df=0.0,\n",
    "                                       max_df = 1.0,\n",
    "                                       strip_accents = None,\n",
    "                                       encoding = 'utf-8', \n",
    "                                       preprocessor=None,\n",
    "                                       token_pattern=r\"(?u)\\S\\S+\",\n",
    "                                       max_features=1000)\n",
    "\n",
    "vectorizer_X2 = TfidfVectorizer(analyzer = 'word',\n",
    "                                       min_df=0.0,\n",
    "                                       max_df = 1.0,\n",
    "                                       strip_accents = None,\n",
    "                                       encoding = 'utf-8', \n",
    "                                       preprocessor=None,\n",
    "                                       token_pattern=r\"(?u)\\S\\S+\",\n",
    "                                       max_features=1000)\n",
    "\n",
    "vectorizer_X3 = TfidfVectorizer(analyzer = 'word',\n",
    "                                       min_df=0.0,\n",
    "                                       max_df = 1.0,\n",
    "                                       strip_accents = None,\n",
    "                                       encoding = 'utf-8', \n",
    "                                       preprocessor=None,\n",
    "                                       token_pattern=r\"(?u)\\S\\S+\",\n",
    "                                       max_features=1000)\n",
    "\n",
    "vectorizer_X4 = TfidfVectorizer(analyzer = 'word',\n",
    "                                       min_df=0.0,\n",
    "                                       max_df = 1.0,\n",
    "                                       strip_accents = None,\n",
    "                                       encoding = 'utf-8', \n",
    "                                       preprocessor=None,\n",
    "                                       token_pattern=r\"(?u)\\S\\S+\",\n",
    "                                       max_features=1000)\n",
    "\n",
    "vectorizer_X5 = TfidfVectorizer(analyzer = 'word',\n",
    "                                       min_df=0.0,\n",
    "                                       max_df = 1.0,\n",
    "                                       strip_accents = None,\n",
    "                                       encoding = 'utf-8', \n",
    "                                       preprocessor=None,\n",
    "                                       token_pattern=r\"(?u)\\S\\S+\",\n",
    "                                       max_features=1000)\n",
    "\n",
    "vectorizer_X6 = TfidfVectorizer(analyzer = 'word',\n",
    "                                       min_df=0.0,\n",
    "                                       max_df = 1.0,\n",
    "                                       strip_accents = None,\n",
    "                                       encoding = 'utf-8', \n",
    "                                       preprocessor=None,\n",
    "                                       token_pattern=r\"(?u)\\S\\S+\",\n",
    "                                       max_features=1000)"
   ]
  },
  {
   "cell_type": "code",
   "execution_count": 27,
   "metadata": {
    "_uuid": "2fa0c121a6510f161df99e7fd882534214a8e380"
   },
   "outputs": [],
   "source": [
    "X1_tfidf = vectorizer_X1.fit_transform(X1)\n",
    "X2_tfidf = vectorizer_X2.fit_transform(X2)\n",
    "X3_tfidf = vectorizer_X3.fit_transform(X3)\n",
    "X4_tfidf = vectorizer_X4.fit_transform(X4)\n",
    "X5_tfidf = vectorizer_X5.fit_transform(X5)\n",
    "X6_tfidf = vectorizer_X6.fit_transform(X6)"
   ]
  },
  {
   "cell_type": "code",
   "execution_count": 28,
   "metadata": {
    "_uuid": "d241fca148de1384e5323d2b194feb52727d14e1"
   },
   "outputs": [],
   "source": [
    "X_tfidf = hstack([X1_tfidf, X2_tfidf, X3_tfidf, X4_tfidf, X5_tfidf])"
   ]
  },
  {
   "cell_type": "code",
   "execution_count": 29,
   "metadata": {
    "_uuid": "1219d6cdc1f1d27c90910659f1be21a917f9288e"
   },
   "outputs": [],
   "source": [
    "X_train, X_test, y_train, y_test = train_test_split(X_tfidf, y_bin, test_size = 0.2, random_state = 0) # Do 80/20 split"
   ]
  },
  {
   "cell_type": "markdown",
   "metadata": {
    "_uuid": "d9ba6707c5aef3d55a7a5a8d33182c87d83af703"
   },
   "source": [
    "Now it's finally ready. "
   ]
  },
  {
   "cell_type": "markdown",
   "metadata": {
    "_uuid": "6755c0843211713e0b4bf90cb4618cfdaa9fef85"
   },
   "source": [
    "**2.2 One vs Rest**"
   ]
  },
  {
   "cell_type": "markdown",
   "metadata": {
    "_uuid": "c4448315a460e141e1c8b079b809c1040e4fc050"
   },
   "source": [
    "To evaluate our models, I'll use the jacard score since it's the best fitted for multi label classification. "
   ]
  },
  {
   "cell_type": "code",
   "execution_count": 39,
   "metadata": {
    "_kg_hide-input": true,
    "_uuid": "03e10593770e8b27cb2a9574efcc9cd8b6dabbd6"
   },
   "outputs": [],
   "source": [
    "def avg_jacard(y_true,y_pred):\n",
    "    '''\n",
    "    see https://en.wikipedia.org/wiki/Multi-label_classification#Statistics_and_evaluation_metrics\n",
    "    '''\n",
    "    jacard = np.minimum(y_true,y_pred).sum(axis=1) / np.maximum(y_true,y_pred).sum(axis=1)\n",
    "    \n",
    "    return jacard.mean()*100\n",
    "\n",
    "def print_score(y_pred, clf):\n",
    "    print(\"Clf: \", clf.__class__.__name__)\n",
    "    print(\"Jacard score: {}\".format(avg_jacard(y_test, y_pred)))\n",
    "    print(\"Hamming loss: {}\".format(hamming_loss(y_pred, y_test)*100))\n",
    "    print(\"---\")    "
   ]
  },
  {
   "cell_type": "code",
   "execution_count": 45,
   "metadata": {
    "_kg_hide-input": true,
    "_uuid": "6fb3326bc2c812cd991ca969762e54190b548150"
   },
   "outputs": [
    {
     "name": "stdout",
     "output_type": "stream",
     "text": [
      "Clf:  DummyClassifier\n",
      "Jacard score: 6.398664003214238\n",
      "Hamming loss: 2.2067279285317434\n",
      "---\n",
      "Clf:  SGDClassifier\n",
      "Jacard score: 46.54232098550188\n",
      "Hamming loss: 0.7640793523409735\n",
      "---\n",
      "Clf:  LogisticRegression\n",
      "Jacard score: 47.16389565038341\n",
      "Hamming loss: 0.7666809238665526\n",
      "---\n",
      "Clf:  MultinomialNB\n",
      "Jacard score: 36.95061147316674\n",
      "Hamming loss: 1.2274346740980484\n",
      "---\n",
      "Clf:  LinearSVC\n",
      "Jacard score: 53.158534152244904\n",
      "Hamming loss: 0.7096227280343583\n",
      "---\n",
      "Clf:  PassiveAggressiveClassifier\n",
      "Jacard score: 47.39022271844094\n",
      "Hamming loss: 0.8655737126630392\n",
      "---\n"
     ]
    }
   ],
   "source": [
    "dummy = DummyClassifier()\n",
    "sgd = SGDClassifier()\n",
    "lr = LogisticRegression()\n",
    "mn = MultinomialNB()\n",
    "svc = LinearSVC()\n",
    "pac = PassiveAggressiveClassifier()\n",
    "\n",
    "for classifier in [dummy, sgd, lr, mn, svc, pac]:\n",
    "    clf = OneVsRestClassifier(classifier)\n",
    "    clf.fit(X_train, y_train)\n",
    "    y_pred = clf.predict(X_test)\n",
    "    print_score(y_pred, classifier)"
   ]
  },
  {
   "cell_type": "markdown",
   "metadata": {
    "_uuid": "7615d72e56406afe2d981b72b0b69ceff34aca91"
   },
   "source": [
    "**2.3 MLP Classifier**"
   ]
  },
  {
   "cell_type": "code",
   "execution_count": 46,
   "metadata": {
    "_kg_hide-input": true,
    "_uuid": "43560fbdf7c0232998cbb9ff303b257fae491eab"
   },
   "outputs": [
    {
     "name": "stdout",
     "output_type": "stream",
     "text": [
      "Clf:  MLPClassifier\n",
      "Jacard score: 51.225579493423204\n",
      "Hamming loss: 0.7881438889525808\n",
      "---\n"
     ]
    }
   ],
   "source": [
    "mlpc = MLPClassifier()\n",
    "mlpc.fit(X_train, y_train)\n",
    "\n",
    "y_pred = mlpc.predict(X_test)\n",
    "\n",
    "print_score(y_pred, mlpc)"
   ]
  },
  {
   "cell_type": "markdown",
   "metadata": {},
   "source": [
    "**Support Vector Machine which gave better results compared to SGD Classifier, Logistic Regression, Multinomial Naive Bayes, Random Forest  and Passive Aggressive Classifier based on Jaccard Score and Hamming distance.**"
   ]
  },
  {
   "cell_type": "code",
   "execution_count": null,
   "metadata": {},
   "outputs": [],
   "source": []
  }
 ],
 "metadata": {
  "kernelspec": {
   "display_name": "Python 3",
   "language": "python",
   "name": "python3"
  },
  "language_info": {
   "codemirror_mode": {
    "name": "ipython",
    "version": 3
   },
   "file_extension": ".py",
   "mimetype": "text/x-python",
   "name": "python",
   "nbconvert_exporter": "python",
   "pygments_lexer": "ipython3",
   "version": "3.6.9"
  }
 },
 "nbformat": 4,
 "nbformat_minor": 1
}
